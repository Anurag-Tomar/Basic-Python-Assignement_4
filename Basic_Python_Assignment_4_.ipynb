{
  "nbformat": 4,
  "nbformat_minor": 0,
  "metadata": {
    "colab": {
      "name": "Basic Python Assignment_4 .ipynb",
      "provenance": []
    },
    "kernelspec": {
      "name": "python3",
      "display_name": "Python 3"
    },
    "language_info": {
      "name": "python"
    }
  },
  "cells": [
    {
      "cell_type": "markdown",
      "source": [
        "1. What exactly is []?\n",
        "\n",
        "Ans: It is Blank list."
      ],
      "metadata": {
        "id": "voKyLgi9eer_"
      }
    },
    {
      "cell_type": "markdown",
      "source": [
        "2. In a list of values stored in a variable called spam, how would you assign the value 'hello' as the third value? (Assume [2, 4, 6, 8, 10] are in spam.)\n",
        "\n",
        "Ans: spam[2]=\"hello\"\n",
        "      \n",
        "      [2, 4, 'hello', 8, 10]"
      ],
      "metadata": {
        "id": "BiyF51H3efeE"
      }
    },
    {
      "cell_type": "code",
      "source": [
        "\n",
        "spam= [2, 4, 6, 8, 10]\n",
        "spam[2]=\"hello\"\n",
        "spam"
      ],
      "metadata": {
        "colab": {
          "base_uri": "https://localhost:8080/"
        },
        "id": "L7h-dqvnfhTZ",
        "outputId": "f9a9b7d9-1899-4ea1-a5c1-e057f309b88c"
      },
      "execution_count": 17,
      "outputs": [
        {
          "output_type": "execute_result",
          "data": {
            "text/plain": [
              "[2, 4, 'hello', 8, 10]"
            ]
          },
          "metadata": {},
          "execution_count": 17
        }
      ]
    },
    {
      "cell_type": "markdown",
      "source": [
        "**Let's pretend the spam includes the list ['a', 'b', 'c', 'd'] for the next three queries.**\n"
      ],
      "metadata": {
        "id": "S03JQHKMefji"
      }
    },
    {
      "cell_type": "markdown",
      "source": [
        "3. What is the value of spam[int(int('3' * 2) / 11)]?\n",
        "\n",
        "And= \"d\""
      ],
      "metadata": {
        "id": "AHbmHjI9efm7"
      }
    },
    {
      "cell_type": "code",
      "source": [
        "#Ans:\n",
        "spam = ['a', 'b', 'c', 'd']\n",
        "spam[int(int('3' * 2) / 11)]"
      ],
      "metadata": {
        "colab": {
          "base_uri": "https://localhost:8080/",
          "height": 35
        },
        "id": "8UMLNRvhgIRf",
        "outputId": "f63df542-290b-46c1-889a-2c03cbd68ccf"
      },
      "execution_count": 3,
      "outputs": [
        {
          "output_type": "execute_result",
          "data": {
            "application/vnd.google.colaboratory.intrinsic+json": {
              "type": "string"
            },
            "text/plain": [
              "'d'"
            ]
          },
          "metadata": {},
          "execution_count": 3
        }
      ]
    },
    {
      "cell_type": "markdown",
      "source": [
        "4. What is the value of spam[-1]?\n",
        "\n",
        "Ans:  'd'"
      ],
      "metadata": {
        "id": "459zn-KMefqS"
      }
    },
    {
      "cell_type": "markdown",
      "source": [
        "5. What is the value of spam[:2]?\n",
        "\n",
        "Ans: ['a','b']"
      ],
      "metadata": {
        "id": "3uKuvM1lg7nc"
      }
    },
    {
      "cell_type": "markdown",
      "source": [
        "**Let's pretend bacon has the list [3.14, 'cat,' 11, 'cat,' True] for the next three questions.**"
      ],
      "metadata": {
        "id": "cXQ-A7iVg7vt"
      }
    },
    {
      "cell_type": "markdown",
      "source": [
        "6.What is the value of bacon.index('cat')?\n",
        "Ans:"
      ],
      "metadata": {
        "id": "rD43l8pfhYBH"
      }
    },
    {
      "cell_type": "code",
      "source": [
        "#Ans:\n",
        "bacon= [3.14, 'cat', 11, 'cat', True]\n",
        "bacon.index('cat')"
      ],
      "metadata": {
        "colab": {
          "base_uri": "https://localhost:8080/"
        },
        "id": "-y2Ojsvsgyn8",
        "outputId": "991a717b-0554-4669-a5e5-4f5576522258"
      },
      "execution_count": 10,
      "outputs": [
        {
          "output_type": "execute_result",
          "data": {
            "text/plain": [
              "1"
            ]
          },
          "metadata": {},
          "execution_count": 10
        }
      ]
    },
    {
      "cell_type": "markdown",
      "source": [
        "7. How does bacon.append(99) change the look of the list value in bacon?"
      ],
      "metadata": {
        "id": "w-AEK-A9ispn"
      }
    },
    {
      "cell_type": "code",
      "source": [
        "bacon= [3.14, 'cat', 11, 'cat', True]\n",
        "bacon.append(99)"
      ],
      "metadata": {
        "id": "GVX2nTrIi2fg"
      },
      "execution_count": 13,
      "outputs": []
    },
    {
      "cell_type": "code",
      "source": [
        "bacon"
      ],
      "metadata": {
        "colab": {
          "base_uri": "https://localhost:8080/"
        },
        "id": "HdfMzcPKjAYz",
        "outputId": "7e1e8578-e1a4-4299-ad81-0319128463a1"
      },
      "execution_count": 14,
      "outputs": [
        {
          "output_type": "execute_result",
          "data": {
            "text/plain": [
              "[3.14, 'cat', 11, 'cat', True, 99]"
            ]
          },
          "metadata": {},
          "execution_count": 14
        }
      ]
    },
    {
      "cell_type": "markdown",
      "source": [
        "8. How does bacon.remove('cat') change the look of the list in bacon?"
      ],
      "metadata": {
        "id": "-Fpg-VqdjIWu"
      }
    },
    {
      "cell_type": "code",
      "source": [
        "bacon.remove(\"cat\")"
      ],
      "metadata": {
        "id": "UjY5NmzPjCEX"
      },
      "execution_count": 15,
      "outputs": []
    },
    {
      "cell_type": "code",
      "source": [
        "bacon"
      ],
      "metadata": {
        "colab": {
          "base_uri": "https://localhost:8080/"
        },
        "id": "4K1ukR2WjQnJ",
        "outputId": "3060345b-2ec0-439c-bfb4-07bcb539ec4b"
      },
      "execution_count": 16,
      "outputs": [
        {
          "output_type": "execute_result",
          "data": {
            "text/plain": [
              "[3.14, 11, 'cat', True, 99]"
            ]
          },
          "metadata": {},
          "execution_count": 16
        }
      ]
    },
    {
      "cell_type": "markdown",
      "source": [
        "9. What are the list concatenation and list replication operators?\n",
        "\n",
        "Ans: The operator for the concatenation is + and the operator for the replication is *  in list.\n",
        "\n",
        "Example:"
      ],
      "metadata": {
        "id": "axVnbb4JmW5_"
      }
    },
    {
      "cell_type": "code",
      "source": [
        "l1=[1,2,3,4,5]\n",
        "l2=[6,7,8,9,10]\n",
        "print(l1+l2)\n",
        "print(l1*2)"
      ],
      "metadata": {
        "colab": {
          "base_uri": "https://localhost:8080/"
        },
        "id": "QMnb6uxmmumk",
        "outputId": "7d92c4a6-0c96-4580-f646-2a6980956fe4"
      },
      "execution_count": 18,
      "outputs": [
        {
          "output_type": "stream",
          "name": "stdout",
          "text": [
            "[1, 2, 3, 4, 5, 6, 7, 8, 9, 10]\n",
            "[1, 2, 3, 4, 5, 1, 2, 3, 4, 5]\n"
          ]
        }
      ]
    },
    {
      "cell_type": "markdown",
      "source": [
        "10. What is difference between the list methods append() and insert()?\n",
        "\n",
        "Ans:The append () will add element at the end of the list but insert()can add them at any given index number."
      ],
      "metadata": {
        "id": "Sbv6c_LHnFXT"
      }
    },
    {
      "cell_type": "markdown",
      "source": [
        "11. What are the two methods for removing items from a list?\n",
        "\n",
        "Ans: del and remove are two method for removing items from a list."
      ],
      "metadata": {
        "id": "g1fFByokndYo"
      }
    },
    {
      "cell_type": "markdown",
      "source": [
        "12. Describe how list values and string values are identical.\n",
        "\n",
        "Ans:Lists and Strings in Python are sequences.Both lists and strings can be passed to len() function, have indexes and slices, can be used in  loops,can be concatenated or replicated, and be used with the in and  not in operators."
      ],
      "metadata": {
        "id": "ShL7Na03n0fH"
      }
    },
    {
      "cell_type": "markdown",
      "source": [
        " 13. What's the difference between tuples and lists?\n",
        "\n",
        "Ans:  The list is dynamic, whereas the tuple has static characteristics. List is written in square brackets [ ] while Tuples are written in round brackets ( ). Lists are many built-in methods whereas Tuples are less in-built methods.List iteration is slower and time-consuming  whereas Tuples iteration is faster."
      ],
      "metadata": {
        "id": "XElGwSc4n0ia"
      }
    },
    {
      "cell_type": "markdown",
      "source": [
        "14. How do you type a tuple value that only contains the integer 42?\n",
        "\n",
        "\n",
        "Ans: (42,)"
      ],
      "metadata": {
        "id": "UheoorJjn0l8"
      }
    },
    {
      "cell_type": "markdown",
      "source": [
        "15. How do you get a list value's tuple form? How do you get a tuple value's list form?\n",
        "\n",
        "Ans:The tuple() and list() functions, respectively are used to convert a list to tuple and vice versa."
      ],
      "metadata": {
        "id": "iDX-7vdkrqxA"
      }
    },
    {
      "cell_type": "code",
      "source": [
        "#ex:\n",
        "list1=[1,2,3]\n",
        "tup1=(1,2,3)\n",
        "tup2=tuple(list1)\n",
        "list2=list(tup1)\n",
        "print(tup2)\n",
        "print(list2)"
      ],
      "metadata": {
        "colab": {
          "base_uri": "https://localhost:8080/"
        },
        "id": "V3SDY4TXr3us",
        "outputId": "1af6ff78-2edd-4aba-a986-759920bd125a"
      },
      "execution_count": 22,
      "outputs": [
        {
          "output_type": "stream",
          "name": "stdout",
          "text": [
            "(1, 2, 3)\n",
            "[1, 2, 3]\n"
          ]
        }
      ]
    },
    {
      "cell_type": "markdown",
      "source": [
        "16. Variables that \"contain\" list values are not necessarily lists themselves. Instead, what do they contain?\n",
        "\n",
        "Ans:They contain references to list values."
      ],
      "metadata": {
        "id": "RNKEjiDXrq6Y"
      }
    },
    {
      "cell_type": "markdown",
      "source": [
        "17. How do you distinguish between copy.copy() and copy.deepcopy()?\n",
        "\n",
        "Ans: The copy.copy() function will do a shallow copy of a list, while the copy.deepcopy() function will do a deep copy of a list.\n",
        "   \n",
        "   A shallow copy constructs a new compound object and then (to the extent possible) inserts references into it to the objects found in the original.\n",
        "A deep copy constructs a new compound object and then, recursively, inserts copies into it of the objects found in the original."
      ],
      "metadata": {
        "id": "Y8G7Yjcus3UM"
      }
    },
    {
      "cell_type": "code",
      "source": [
        ""
      ],
      "metadata": {
        "id": "kpubxpFJnAVZ"
      },
      "execution_count": null,
      "outputs": []
    }
  ]
}